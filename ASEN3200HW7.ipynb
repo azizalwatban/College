{
 "cells": [
  {
   "cell_type": "code",
   "execution_count": 63,
   "id": "3cd24f33",
   "metadata": {},
   "outputs": [],
   "source": [
    "import numpy as np\n",
    "import math\n",
    "from scipy.spatial.transform import Rotation as R\n",
    "cos, sin = np.cos, np.sin"
   ]
  },
  {
   "cell_type": "markdown",
   "id": "39387267",
   "metadata": {},
   "source": [
    "# Problem 1: \n",
    "**You are flying in a lunar transit spacecraft and you’re current attitude relative to an inertial frame is given in terms of 3-2-1 Euler angles as (230,70,103). You are interested in docking onto the space station, which attitude relative to the same inertial frame is given through the Euler parameters (β0, β1, β2, β3) = (0.328474, −0.437966, 0.801059, −0.242062). What is the attitude of your spacecraft relative to the space station? Express your answer using the principal rotation angle φ and principal rotation axis eˆ.**"
   ]
  },
  {
   "cell_type": "code",
   "execution_count": 89,
   "id": "cb4bfe54",
   "metadata": {},
   "outputs": [],
   "source": [
    "Euler321 = [230, 70, 103]\n",
    "B0, B1, B2, B3 = [0.328474, -0.437966, 0.801059, -0.242062]"
   ]
  },
  {
   "cell_type": "code",
   "execution_count": 90,
   "id": "e4947206",
   "metadata": {},
   "outputs": [
    {
     "data": {
      "text/plain": [
       "array([[-0.21984631, -0.26200263, -0.93969262],\n",
       "       [-0.76086421, -0.55680095,  0.33325419],\n",
       "       [-0.61053521,  0.78824319, -0.07693779]])"
      ]
     },
     "execution_count": 90,
     "metadata": {},
     "output_type": "execute_result"
    }
   ],
   "source": [
    "ang1, ang2, ang3 = np.deg2rad(230), np.deg2rad(70), np.deg2rad(103)\n",
    "\n",
    "Rot1 = np.array([[1, 0, 0], [0, cos(ang3), sin(ang3)], [0, -sin(ang3), cos(ang3)]])\n",
    "Rot2 = np.array([[cos(ang2), 0, -sin(ang2)], [0,1,0], [sin(ang2), 0, cos(ang2)]])\n",
    "Rot3 = np.array([[cos(ang1), sin(ang1), 0], [-sin(ang1), cos(ang1), 0], [0,0, 1]])\n",
    "\n",
    "BN = Rot1 @ Rot2 @ Rot3  #Attitude of spacecraft relative to inertial\n",
    "BN"
   ]
  },
  {
   "cell_type": "code",
   "execution_count": 91,
   "id": "fe2ade57",
   "metadata": {},
   "outputs": [
    {
     "data": {
      "text/plain": [
       "True"
      ]
     },
     "execution_count": 91,
     "metadata": {},
     "output_type": "execute_result"
    }
   ],
   "source": [
    "BN.T.all() == np.linalg.inv(BN).all() #check orthogonality: inverse = transpose"
   ]
  },
  {
   "cell_type": "code",
   "execution_count": 92,
   "id": "f44234e4",
   "metadata": {},
   "outputs": [
    {
     "data": {
      "text/plain": [
       "array([[-0.40058015, -0.86069536, -0.31422426],\n",
       "       [-0.54265107,  0.49918246, -0.67553278],\n",
       "       [ 0.73828396, -0.100091  , -0.66702056]])"
      ]
     },
     "execution_count": 92,
     "metadata": {},
     "output_type": "execute_result"
    }
   ],
   "source": [
    "SN = np.array([[B0**2 + B1**2 - B2**2 - B3**2, 2*(B1*B2+B0*B3), 2*(B1*B3-B0*B2)],\n",
    "               [2*(B1*B2-B0*B3), B0**2-B1**2+B2**2-B3**2, 2*(B2*B3+B0*B1)],\n",
    "               [2*(B1*B3+B0*B2), 2*(B2*B3-B0*B1), B0**2-B1**2-B2**2+B3**2]])\n",
    "\n",
    "SN #Attitude of station relative to inertial"
   ]
  },
  {
   "cell_type": "code",
   "execution_count": 93,
   "id": "0d32ca1a",
   "metadata": {},
   "outputs": [
    {
     "data": {
      "text/plain": [
       "True"
      ]
     },
     "execution_count": 93,
     "metadata": {},
     "output_type": "execute_result"
    }
   ],
   "source": [
    "SN.T.all() == np.linalg.inv(SN).all() #check orthogonality: inverse = transpose"
   ]
  },
  {
   "cell_type": "code",
   "execution_count": 94,
   "id": "43490daf",
   "metadata": {},
   "outputs": [
    {
     "data": {
      "text/plain": [
       "array([[ 0.60884473,  0.62330588,  0.4907094 ],\n",
       "       [ 0.67930654, -0.09018562, -0.72829048],\n",
       "       [-0.40969325,  0.77675876, -0.47832532]])"
      ]
     },
     "execution_count": 94,
     "metadata": {},
     "output_type": "execute_result"
    }
   ],
   "source": [
    "NS = SN.T\n",
    "BS = BN @ NS     #Attitude of spacecraft relative to station\n",
    "BS "
   ]
  },
  {
   "cell_type": "code",
   "execution_count": 95,
   "id": "03a41b94",
   "metadata": {},
   "outputs": [
    {
     "name": "stdout",
     "output_type": "stream",
     "text": [
      "118.67450216657373\n"
     ]
    }
   ],
   "source": [
    "psi = np.arccos(0.5 * (np.trace(BS) - 1))     #Single angle that takes body orientation to the spacestation\n",
    "print(psi * 180 / np.pi)"
   ]
  },
  {
   "cell_type": "code",
   "execution_count": 96,
   "id": "78a2bb36",
   "metadata": {},
   "outputs": [
    {
     "data": {
      "text/plain": [
       "array([-0.85771497, -0.51313193, -0.03191431])"
      ]
     },
     "execution_count": 96,
     "metadata": {},
     "output_type": "execute_result"
    }
   ],
   "source": [
    "e = 1/(2*sin(psi)) * np.array([BS[1,2]-BS[2,1], BS[2,0]-BS[0,2], BS[0,1]-BS[1,0]]) #axis of rotation\n",
    "e"
   ]
  },
  {
   "cell_type": "code",
   "execution_count": 97,
   "id": "10e5463d",
   "metadata": {},
   "outputs": [
    {
     "data": {
      "text/plain": [
       "0.9999989327444037"
      ]
     },
     "execution_count": 97,
     "metadata": {},
     "output_type": "execute_result"
    }
   ],
   "source": [
    "np.linalg.norm(e) #check rotation axis is normalized"
   ]
  },
  {
   "cell_type": "markdown",
   "id": "8671aa12",
   "metadata": {},
   "source": [
    "### Results:\n",
    "The attitude of the spacecraft relative to the space station is expressed by the principle rotation angle $$\\Phi = 118.7^o$$ through the principle axis $$ e = \\vec(-0.858, -0.513, -0.0319)$$"
   ]
  },
  {
   "cell_type": "markdown",
   "id": "25ab0fb0",
   "metadata": {},
   "source": [
    "# Problem 2: \n",
    "**The orientation of an object is given in terms of the (3-1-3) Euler angles (−30 , 40 , 20 ), <br>a) find the corresponding principal rotation axis eˆ <br>\n",
    "b) find the two principal rotation angles Φ and Φ′<br>\n",
    "c) Find the corresponding Euler parameters.**<br>"
   ]
  },
  {
   "cell_type": "code",
   "execution_count": 73,
   "id": "03f096ab",
   "metadata": {},
   "outputs": [],
   "source": [
    "ang1, ang2, ang3 = np.deg2rad(-30), np.deg2rad(40), np.deg2rad(20)"
   ]
  },
  {
   "cell_type": "code",
   "execution_count": 74,
   "id": "2a773b02",
   "metadata": {},
   "outputs": [
    {
     "data": {
      "text/plain": [
       "array([[ 0.944799  , -0.24294538,  0.21984631],\n",
       "       [ 0.06372502,  0.79441526,  0.60402277],\n",
       "       [-0.3213938 , -0.5566704 ,  0.76604444]])"
      ]
     },
     "execution_count": 74,
     "metadata": {},
     "output_type": "execute_result"
    }
   ],
   "source": [
    "Rot1 = np.array([[1, 0, 0], [0, cos(ang2), sin(ang2)], [0, -sin(ang2), cos(ang2)]])\n",
    "Rot3 = np.array([[cos(ang3), sin(ang3), 0], [-sin(ang3), cos(ang3), 0], [0,0, 1]])\n",
    "Rot3_ = np.array([[cos(ang1), sin(ang1), 0], [-sin(ang1), cos(ang1), 0], [0,0, 1]])\n",
    "\n",
    "BN = Rot3 @ Rot1 @ Rot3_\n",
    "BN"
   ]
  },
  {
   "cell_type": "code",
   "execution_count": 75,
   "id": "5de15043",
   "metadata": {},
   "outputs": [
    {
     "data": {
      "text/plain": [
       "True"
      ]
     },
     "execution_count": 75,
     "metadata": {},
     "output_type": "execute_result"
    }
   ],
   "source": [
    "BN.T.all() == np.linalg.inv(BN).all() #check orthogonality: inverse = transpose"
   ]
  },
  {
   "cell_type": "markdown",
   "id": "c8d91b31",
   "metadata": {},
   "source": [
    " ### Part A:"
   ]
  },
  {
   "cell_type": "code",
   "execution_count": 76,
   "id": "5d04e59a",
   "metadata": {},
   "outputs": [
    {
     "name": "stdout",
     "output_type": "stream",
     "text": [
      "41.18134335105358\n"
     ]
    }
   ],
   "source": [
    "psi = np.arccos(0.5*(np.trace(BN) - 1))\n",
    "print(psi * 180 / np.pi)"
   ]
  },
  {
   "cell_type": "code",
   "execution_count": 77,
   "id": "374f6d73",
   "metadata": {},
   "outputs": [
    {
     "data": {
      "text/plain": [
       "array([ 0.88139039, -0.41099909, -0.23287493])"
      ]
     },
     "execution_count": 77,
     "metadata": {},
     "output_type": "execute_result"
    }
   ],
   "source": [
    "e = 1/(2*sin(psi)) * np.array([BN[1,2]-BN[2,1], BN[2,0]-BN[0,2], BN[0,1]-BN[1,0]]) #axis of rotation\n",
    "e"
   ]
  },
  {
   "cell_type": "markdown",
   "id": "d3e32139",
   "metadata": {},
   "source": [
    "### Part B:"
   ]
  },
  {
   "cell_type": "markdown",
   "id": "8cbcd4a6",
   "metadata": {},
   "source": [
    "The two principle rotation angles are: $$\\Phi = 41.18^o$$ and $$\\Phi^{'} = -318.8^o$$"
   ]
  },
  {
   "cell_type": "markdown",
   "id": "f8fea182",
   "metadata": {},
   "source": [
    "### Part C:"
   ]
  },
  {
   "cell_type": "code",
   "execution_count": 87,
   "id": "fd8d5261",
   "metadata": {},
   "outputs": [
    {
     "name": "stdout",
     "output_type": "stream",
     "text": [
      "[B0, B1, B2, B3] =  [0.026429270604954556, -0.8408810072854596, 0.5021588170057916, -0.200142818370456]\n"
     ]
    }
   ],
   "source": [
    "B0 = 0.5 * np.sqrt(np.trace(BN)+1)\n",
    "B1 = (BN[1,2]-BN[2,1]) / (4*B0)\n",
    "B2 = (BN[2,0]-BN[0,2]) / (4*B0)\n",
    "B3 = (BN[0,1]-BN[1,0]) / (4*B0)\n",
    "print(\"[B0, B1, B2, B3] = \", [B0, B1, B2, B3])"
   ]
  },
  {
   "cell_type": "markdown",
   "id": "a39c765a",
   "metadata": {},
   "source": [
    "# Problem 3:\n",
    "\n",
    "**Consider the following attitude determination problem. You have 2 attitude sensors (sun sensor and magnetometer). The first measurement Bv1 is the heading to the sun in body frame components. The 2nd measurement Bv2 is the magnetic field heading also in body frame components.**\n",
    "$$ v_1^B  = \\begin{pmatrix} 0.8273 \\\\ 0.5541 \\\\ -0.0920 \\end{pmatrix} $$ $$v_2^B = \\begin{pmatrix} -0.8285\\\\ 0.5522 \\\\ -0.0955 \\end{pmatrix} $$\n",
    "\n",
    "**Because you know the satellite’s orbital position, you know that the sun and magnetic field heading vectors are expressed in inertial frame vector components:**\n",
    "\n",
    "$$v_1^N  = \\begin{pmatrix} -0.1517 \\\\ -0.9669 \\\\ 0.2050 \\end{pmatrix} $$ $$v_2^N = \\begin{pmatrix} -0.8393 \\\\ 0.4494 \\\\ -0.3044 \\end{pmatrix}$$\n",
    "\n",
    "**a) Use the TRIAD method to determine the spacecraft’s attitude matrix [BN] <br>\n",
    "b) what are the corresponding (3-2-1) Euler angles?**\n"
   ]
  },
  {
   "cell_type": "code",
   "execution_count": 79,
   "id": "0f487af6",
   "metadata": {},
   "outputs": [],
   "source": [
    "v1B = [0.8273, 0.5541, -0.0920] / np.linalg.norm([0.8273, 0.5541, -0.0920])\n",
    "v2B = [-0.8285, 0.5522, -0.0955] / np.linalg.norm([-0.8285, 0.5522, -0.0955])\n",
    "v1N = [-0.1517, -0.9669, 0.2050] / np.linalg.norm([-0.1517, -0.9669, 0.2050])\n",
    "v2N = [-0.8393, 0.4494, -0.3044] / np.linalg.norm([-0.8393, 0.4494, -0.3044])"
   ]
  },
  {
   "cell_type": "markdown",
   "id": "c4f9cc35",
   "metadata": {},
   "source": [
    "### Part a:"
   ]
  },
  {
   "cell_type": "code",
   "execution_count": 80,
   "id": "f4ebe61b",
   "metadata": {},
   "outputs": [
    {
     "name": "stdout",
     "output_type": "stream",
     "text": [
      "[ 0.82733471  0.55412325 -0.09200386] [-0.0022758   0.16709806  0.98593766] [ 0.56170464 -0.81549106  0.13950709]\n",
      "[-0.15170504 -0.96693215  0.20500682] [ 0.21773522 -0.23500418 -0.9472932 ] [ 0.96414571 -0.09907195  0.24618651]\n"
     ]
    }
   ],
   "source": [
    "t1B = v1B\n",
    "t2B = np.cross(v1B, v2B) / (np.linalg.norm(np.cross(v1B, v2B)))\n",
    "t3B = np.cross(t1B, t2B)\n",
    "\n",
    "t1N = v1N\n",
    "t2N = np.cross(v1N, v2N) / (np.linalg.norm(np.cross(v1N, v2N)))\n",
    "t3N = np.cross(t1N, t2N)\n",
    "\n",
    "print(t1B, t2B, t3B)\n",
    "print(t1N, t2N, t3N)"
   ]
  },
  {
   "cell_type": "code",
   "execution_count": 81,
   "id": "2502adbf",
   "metadata": {},
   "outputs": [
    {
     "name": "stdout",
     "output_type": "stream",
     "text": [
      "[[ 0.82733471 -0.0022758   0.56170464]\n",
      " [ 0.55412325  0.16709806 -0.81549106]\n",
      " [-0.09200386  0.98593766  0.13950709]]\n",
      "\n",
      "[[-0.15170504  0.21773522  0.96414571]\n",
      " [-0.96693215 -0.23500418 -0.09907195]\n",
      " [ 0.20500682 -0.9472932   0.24618651]]\n"
     ]
    }
   ],
   "source": [
    "BT = np.array([t1B, t2B, t3B]).T\n",
    "NT = np.array([t1N, t2N, t3N]).T\n",
    "print(BT)\n",
    "print(\"\")\n",
    "print(NT)"
   ]
  },
  {
   "cell_type": "code",
   "execution_count": 82,
   "id": "cb16c339",
   "metadata": {},
   "outputs": [
    {
     "data": {
      "text/plain": [
       "True"
      ]
     },
     "execution_count": 82,
     "metadata": {},
     "output_type": "execute_result"
    }
   ],
   "source": [
    "BT.T.all() == np.linalg.inv(BT).all() #check if matrix is orthogonal"
   ]
  },
  {
   "cell_type": "code",
   "execution_count": 83,
   "id": "e263fc12",
   "metadata": {},
   "outputs": [
    {
     "data": {
      "text/plain": [
       "array([[ 0.41555875, -0.85509088,  0.31004921],\n",
       "       [-0.83393237, -0.49427603, -0.24545471],\n",
       "       [ 0.36313597, -0.15655922, -0.91848869]])"
      ]
     },
     "execution_count": 83,
     "metadata": {},
     "output_type": "execute_result"
    }
   ],
   "source": [
    "TN = NT.T\n",
    "BN = BT @ TN\n",
    "BN"
   ]
  },
  {
   "cell_type": "markdown",
   "id": "06724f14",
   "metadata": {},
   "source": [
    "### Part b:"
   ]
  },
  {
   "cell_type": "code",
   "execution_count": 84,
   "id": "51ba3e49",
   "metadata": {},
   "outputs": [
    {
     "name": "stdout",
     "output_type": "stream",
     "text": [
      "The 321 Euler angles are ψ = -64.08108384222732 and ϴ is -18.062195951170207 and φ is -165.03804734205067\n"
     ]
    }
   ],
   "source": [
    "psi = math.atan2(BN[0,1],BN[0,0]) * 180 / np.pi\n",
    "theta = -np.arcsin(BN[0,2]) * 180 / np.pi\n",
    "phi = math.atan2(BN[1,2], BN[2,2]) * 180 / np.pi\n",
    "print('The 321 Euler angles are \\u03C8 =', psi, 'and \\u03F4 is', theta, 'and \\u03C6 is', phi)"
   ]
  }
 ],
 "metadata": {
  "kernelspec": {
   "display_name": "Python 3",
   "language": "python",
   "name": "python3"
  },
  "language_info": {
   "codemirror_mode": {
    "name": "ipython",
    "version": 3
   },
   "file_extension": ".py",
   "mimetype": "text/x-python",
   "name": "python",
   "nbconvert_exporter": "python",
   "pygments_lexer": "ipython3",
   "version": "3.8.8"
  }
 },
 "nbformat": 4,
 "nbformat_minor": 5
}
